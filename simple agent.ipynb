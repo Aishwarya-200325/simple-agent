{
 "cells": [
  {
   "cell_type": "code",
   "execution_count": 55,
   "id": "61809d10-3186-427d-83bf-1641d862fca2",
   "metadata": {},
   "outputs": [],
   "source": [
    "import re\n",
    "from sklearn.feature_extraction.text import TfidfVectorizer\n",
    "from sklearn.metrics.pairwise import cosine_similarity\n"
   ]
  },
  {
   "cell_type": "code",
   "execution_count": 57,
   "id": "73d09b49-deba-43a0-8d77-787c46bcb577",
   "metadata": {},
   "outputs": [],
   "source": [
    "with open(\"pratice.txt\", \"r\") as file:\n",
    "    context = file.read()\n"
   ]
  },
  {
   "cell_type": "code",
   "execution_count": 59,
   "id": "11c44510-cc6a-41d1-b120-d8af523308ae",
   "metadata": {},
   "outputs": [
    {
     "name": "stdin",
     "output_type": "stream",
     "text": [
      "Ask your question:  what is Zero-shot Prompting\n"
     ]
    }
   ],
   "source": [
    "question = input(\"Ask your question: \")"
   ]
  },
  {
   "cell_type": "code",
   "execution_count": 61,
   "id": "06a6872d-9897-4814-ae03-386bad2688c5",
   "metadata": {},
   "outputs": [],
   "source": [
    "sentences = context.split('\\n')\n",
    "\n",
    "vectorizer = TfidfVectorizer()\n",
    "vectors = vectorizer.fit_transform(sentences + [question])\n",
    "similarities = cosine_similarity(vectors[-1], vectors[:-1])\n",
    "best_match_index = similarities.argmax()\n",
    "best_match = sentences[best_match_index]\n"
   ]
  },
  {
   "cell_type": "code",
   "execution_count": 63,
   "id": "8fe0a461-83c4-4bf8-8a99-2586d37aae0e",
   "metadata": {},
   "outputs": [
    {
     "name": "stdout",
     "output_type": "stream",
     "text": [
      "Answer: Zero-shot Prompting: You ask the model to complete a task without giving any examples.\n"
     ]
    }
   ],
   "source": [
    "if similarities[0, best_match_index] > 0.2:\n",
    "    print(\"Answer:\", best_match)\n",
    "else:\n",
    "    print(\"Answer: Not found in the context\")\n"
   ]
  },
  {
   "cell_type": "code",
   "execution_count": null,
   "id": "394a6438-2bde-45e7-aa2e-8e5bcadf9e99",
   "metadata": {},
   "outputs": [],
   "source": []
  },
  {
   "cell_type": "code",
   "execution_count": null,
   "id": "2db23d56-4f37-4e0c-abbf-3cd7c2fe48b4",
   "metadata": {},
   "outputs": [],
   "source": []
  }
 ],
 "metadata": {
  "kernelspec": {
   "display_name": "Python [conda env:base] *",
   "language": "python",
   "name": "conda-base-py"
  },
  "language_info": {
   "codemirror_mode": {
    "name": "ipython",
    "version": 3
   },
   "file_extension": ".py",
   "mimetype": "text/x-python",
   "name": "python",
   "nbconvert_exporter": "python",
   "pygments_lexer": "ipython3",
   "version": "3.12.7"
  }
 },
 "nbformat": 4,
 "nbformat_minor": 5
}
